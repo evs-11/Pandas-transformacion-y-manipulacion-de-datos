{
  "nbformat": 4,
  "nbformat_minor": 0,
  "metadata": {
    "colab": {
      "provenance": [],
      "authorship_tag": "ABX9TyMY9FTPg7N0NqhwADukhSNZ",
      "include_colab_link": true
    },
    "kernelspec": {
      "name": "python3",
      "display_name": "Python 3"
    },
    "language_info": {
      "name": "python"
    }
  },
  "cells": [
    {
      "cell_type": "markdown",
      "metadata": {
        "id": "view-in-github",
        "colab_type": "text"
      },
      "source": [
        "<a href=\"https://colab.research.google.com/github/evs-11/Pandas-transformacion-y-manipulacion-de-datos/blob/main/Pandas_Tratamiento_Manipulacion_Datos.ipynb\" target=\"_parent\"><img src=\"https://colab.research.google.com/assets/colab-badge.svg\" alt=\"Open In Colab\"/></a>"
      ]
    },
    {
      "cell_type": "markdown",
      "source": [
        "##**PROBLEMA DE NEGOCIO**"
      ],
      "metadata": {
        "id": "ziSQIhRjpzbN"
      }
    },
    {
      "cell_type": "markdown",
      "source": [
        "###**1. Entendiendo el problema**"
      ],
      "metadata": {
        "id": "th1Vr_Mlp_Hs"
      }
    },
    {
      "cell_type": "code",
      "source": [],
      "metadata": {
        "id": "s6SUrnvpqR00"
      },
      "execution_count": null,
      "outputs": []
    }
  ]
}